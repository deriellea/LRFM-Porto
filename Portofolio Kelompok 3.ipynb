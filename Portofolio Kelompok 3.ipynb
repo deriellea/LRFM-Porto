{
 "cells": [
  {
   "cell_type": "markdown",
   "metadata": {},
   "source": [
    "# **STORE BIKE LRFM ANALYSIS**\n",
    "---\n",
    "- Kelompok 3 :\n",
    "    + Alfidhiya Amany R.\n",
    "    + Derielle Aisyah A.\n",
    "    + Hasson Josia\n",
    "- JCDS 2602 - BSD"
   ]
  },
  {
   "cell_type": "markdown",
   "metadata": {},
   "source": [
    "## **🔍 Latar Belakang**\n",
    "\n",
    "Portofolio ini menggunakan data transaksi suatu toko sepeda yang melakukan penjualan secara *online* dan *offline*. Tujuan dari pembuatan portofolio ini adalah untuk melakukan analisis mengenai segmentasi konsumen pada dataset toko sepeda tersebut dan memberikan rekomendasi berdasarkan segmentasi konsumen yang telah dibuat. Model analisis yang digunakan pada portofolio ini adalah LRFM Analysis.\n",
    "\n",
    "LRFM Analysis atau analisis LRFM (*Length*, *Recency*, *Frequency*, dan *Monetary*) merupakan salah satu model analisis yang digunakan untuk segmentasi konsumen. Analisis LRFM berkembang dari model analisis RFM dengan penambahan satu komponen baru yaitu *Length* yang mengacu pada durasi atau panjang waktu hubungan antara konsumen dan perusahaan. Bagian *Recency* mengacu pada seberapa baru atau terkininya suatu transaksi yang dilakukan konsumen dimana semakin kecil nilainya maka semakin baru transaksi tersebut, yang menunjukkan bahwa pelanggan masih aktif. Bagian *Frequentcy* mengacu pada jumlah transaksi yang telah dilakukan oleh konsumen pada periode waktu tertentu sedangkan bagian *Monetary* mengacu pada total nilai atau jumlah uang yang dihabiskan oleh pelanggan selama periode waktu tertentu. Semakin tinggi nilainya, semakin berharga pelanggan tersebut bagi perusahaan.\n",
    "\n",
    "Toko sepeda dalam menghadapi persaingan bisnis yang ketat perlu memahami karakteristik dan perilaku pelanggannya secara lebih mendalam. Toko sepeda sudah memiliki data transaksi yang mencakup cukup informasi yang dapat digunakan untuk melakukan analisis LRFM. Analisis ini dapat membantu toko sepeda melakukan segmentasi konsumen untuk mengelompokkan konsumen yang memiliki sifat yang sama. Pengelompokkan konsumen dapat membantu toko sepeda menentukan perlakuan bisnis sesuai dengan masing-masing kelompok. \n",
    "\n",
    "\n"
   ]
  },
  {
   "cell_type": "markdown",
   "metadata": {},
   "source": [
    "## **❔ Rumusan Masalah**\n",
    "\n",
    "Salah satu langkah strategis yang dapat dilakuka untuk memahami karakteristik dan perilaku pelanggan adalah dengan melakukan segementasi konsumen yaitu mengelompokkan pelanggan berdasarkan kesamaan tertentu seperti preferensi, kebiasaan berbelanja ataupun demografi. Tanpa segmentasi yang tepat, toko sepeda berisiko untuk mengambil keputusan bisnis yang kurang efektif. Oleh karena itu, pertanyaan yang perlu dijawab dalam analisis ini adalah:\n",
    "\n",
    "**1.  Bagaimana cara mengelompokkan konsumen sehingga kita dapat membagi konsumen berdasarkan perilaku belanja mereka?**\n",
    "\n",
    "**2. Keputusan bisnis seperti apa yang sesuai dengan setiap segmen konsumen yang telah dibuat?** \n",
    "\n",
    "Perumusan segmentasi konsumen perlu dilakukan secara optimal sehingga keputusan bisnis dapat disesuaikan dengan karakteristik masing-masing segmen konsumen.\n"
   ]
  },
  {
   "cell_type": "markdown",
   "metadata": {},
   "source": [
    "## **🧠 Data Understanding**"
   ]
  },
  {
   "cell_type": "markdown",
   "metadata": {},
   "source": [
    "- transaction_id: ID unik untuk setiap transaksi.\n",
    "- product_id: ID unik untuk setiap produk yang dibeli.\n",
    "- customer_id: ID unik untuk setiap pelanggan yang melakukan transaksi.\n",
    "- transaction_date: Tanggal terjadinya transaksi.\n",
    "- online_order: Menunjukkan apakah transaksi dilakukan secara online/offline.\n",
    "    + TRUE = Online\n",
    "    + FALSE = Offline\n",
    "- order_status: Status pesanan (misalnya, \"Approved\").\n",
    "- brand: Merek produk (misalnya, \"Solex\", \"Trek Bicycles\").\n",
    "- product_line: Jenis produk (misalnya, \"Standard\").\n",
    "- product_class: Kelas produk (misalnya, \"medium\").\n",
    "- product_size: Ukuran produk (misalnya, \"medium\", \"large\").\n",
    "- list_price: Harga daftar produk.\n",
    "- standard_cost: Biaya standar produk.\n",
    "- product_first_sold_date: Tanggal pertama produk dijual."
   ]
  },
  {
   "cell_type": "markdown",
   "metadata": {},
   "source": [
    "## **📝LRFM Analysis in Python**"
   ]
  },
  {
   "cell_type": "markdown",
   "metadata": {},
   "source": [
    "### 1. Import Library"
   ]
  },
  {
   "cell_type": "code",
   "execution_count": 2,
   "metadata": {},
   "outputs": [],
   "source": [
    "# data manipulation\n",
    "import numpy as np  # useful for many scientific computing in Python\n",
    "import pandas as pd # primary data structure library\n",
    "\n",
    "# visualization\n",
    "import matplotlib.pyplot as plt\n",
    "import seaborn as sns\n",
    "\n",
    "# surpress warnings\n",
    "import warnings\n",
    "warnings.filterwarnings('ignore')\n",
    "\n",
    "# Datetime Library\n",
    "import datetime"
   ]
  },
  {
   "cell_type": "markdown",
   "metadata": {},
   "source": [
    "### 2. Extract Dataset"
   ]
  },
  {
   "cell_type": "code",
   "execution_count": 3,
   "metadata": {},
   "outputs": [],
   "source": [
    "df_raw = pd.read_csv(\n",
    "    'store_bike.csv', \n",
    "    parse_dates=['transaction_date'],        \n",
    "    dtype={'customer_id':str, 'transaction_id':str}\n",
    ")"
   ]
  },
  {
   "cell_type": "code",
   "execution_count": 4,
   "metadata": {},
   "outputs": [
    {
     "data": {
      "text/html": [
       "<div>\n",
       "<style scoped>\n",
       "    .dataframe tbody tr th:only-of-type {\n",
       "        vertical-align: middle;\n",
       "    }\n",
       "\n",
       "    .dataframe tbody tr th {\n",
       "        vertical-align: top;\n",
       "    }\n",
       "\n",
       "    .dataframe thead th {\n",
       "        text-align: right;\n",
       "    }\n",
       "</style>\n",
       "<table border=\"1\" class=\"dataframe\">\n",
       "  <thead>\n",
       "    <tr style=\"text-align: right;\">\n",
       "      <th></th>\n",
       "      <th>transaction_id</th>\n",
       "      <th>product_id</th>\n",
       "      <th>customer_id</th>\n",
       "      <th>transaction_date</th>\n",
       "      <th>online_order</th>\n",
       "      <th>order_status</th>\n",
       "      <th>brand</th>\n",
       "      <th>product_line</th>\n",
       "      <th>product_class</th>\n",
       "      <th>product_size</th>\n",
       "      <th>list_price</th>\n",
       "      <th>standard_cost</th>\n",
       "      <th>product_first_sold_date</th>\n",
       "    </tr>\n",
       "  </thead>\n",
       "  <tbody>\n",
       "    <tr>\n",
       "      <th>10650</th>\n",
       "      <td>10651</td>\n",
       "      <td>17</td>\n",
       "      <td>2629</td>\n",
       "      <td>2017-02-17</td>\n",
       "      <td>False</td>\n",
       "      <td>Approved</td>\n",
       "      <td>WeareA2B</td>\n",
       "      <td>Touring</td>\n",
       "      <td>medium</td>\n",
       "      <td>large</td>\n",
       "      <td>1362.99</td>\n",
       "      <td>$57.74</td>\n",
       "      <td>34079.0</td>\n",
       "    </tr>\n",
       "    <tr>\n",
       "      <th>2041</th>\n",
       "      <td>2042</td>\n",
       "      <td>18</td>\n",
       "      <td>1735</td>\n",
       "      <td>2017-07-22</td>\n",
       "      <td>True</td>\n",
       "      <td>Approved</td>\n",
       "      <td>Solex</td>\n",
       "      <td>Standard</td>\n",
       "      <td>medium</td>\n",
       "      <td>medium</td>\n",
       "      <td>575.27</td>\n",
       "      <td>$431.45</td>\n",
       "      <td>41345.0</td>\n",
       "    </tr>\n",
       "    <tr>\n",
       "      <th>8668</th>\n",
       "      <td>8669</td>\n",
       "      <td>4</td>\n",
       "      <td>1827</td>\n",
       "      <td>2017-11-22</td>\n",
       "      <td>True</td>\n",
       "      <td>Approved</td>\n",
       "      <td>Giant Bicycles</td>\n",
       "      <td>Standard</td>\n",
       "      <td>high</td>\n",
       "      <td>medium</td>\n",
       "      <td>1129.13</td>\n",
       "      <td>$677.48</td>\n",
       "      <td>38573.0</td>\n",
       "    </tr>\n",
       "    <tr>\n",
       "      <th>1114</th>\n",
       "      <td>1115</td>\n",
       "      <td>23</td>\n",
       "      <td>2759</td>\n",
       "      <td>2017-03-27</td>\n",
       "      <td>False</td>\n",
       "      <td>Approved</td>\n",
       "      <td>Norco Bicycles</td>\n",
       "      <td>Mountain</td>\n",
       "      <td>low</td>\n",
       "      <td>small</td>\n",
       "      <td>688.63</td>\n",
       "      <td>$612.88</td>\n",
       "      <td>34244.0</td>\n",
       "    </tr>\n",
       "    <tr>\n",
       "      <th>13902</th>\n",
       "      <td>13903</td>\n",
       "      <td>13</td>\n",
       "      <td>2664</td>\n",
       "      <td>2017-01-14</td>\n",
       "      <td>False</td>\n",
       "      <td>Approved</td>\n",
       "      <td>Solex</td>\n",
       "      <td>Standard</td>\n",
       "      <td>medium</td>\n",
       "      <td>medium</td>\n",
       "      <td>1163.89</td>\n",
       "      <td>$589.27</td>\n",
       "      <td>42560.0</td>\n",
       "    </tr>\n",
       "    <tr>\n",
       "      <th>11963</th>\n",
       "      <td>11964</td>\n",
       "      <td>57</td>\n",
       "      <td>3298</td>\n",
       "      <td>2017-06-01</td>\n",
       "      <td>False</td>\n",
       "      <td>Approved</td>\n",
       "      <td>WeareA2B</td>\n",
       "      <td>Touring</td>\n",
       "      <td>medium</td>\n",
       "      <td>large</td>\n",
       "      <td>1890.39</td>\n",
       "      <td>$260.14</td>\n",
       "      <td>36146.0</td>\n",
       "    </tr>\n",
       "    <tr>\n",
       "      <th>11072</th>\n",
       "      <td>11073</td>\n",
       "      <td>49</td>\n",
       "      <td>633</td>\n",
       "      <td>2017-04-16</td>\n",
       "      <td>True</td>\n",
       "      <td>Approved</td>\n",
       "      <td>Solex</td>\n",
       "      <td>Standard</td>\n",
       "      <td>medium</td>\n",
       "      <td>large</td>\n",
       "      <td>1061.56</td>\n",
       "      <td>$733.58</td>\n",
       "      <td>34170.0</td>\n",
       "    </tr>\n",
       "    <tr>\n",
       "      <th>3002</th>\n",
       "      <td>3003</td>\n",
       "      <td>87</td>\n",
       "      <td>200</td>\n",
       "      <td>2017-02-15</td>\n",
       "      <td>True</td>\n",
       "      <td>Approved</td>\n",
       "      <td>Giant Bicycles</td>\n",
       "      <td>Standard</td>\n",
       "      <td>high</td>\n",
       "      <td>medium</td>\n",
       "      <td>1179.00</td>\n",
       "      <td>$707.40</td>\n",
       "      <td>38482.0</td>\n",
       "    </tr>\n",
       "    <tr>\n",
       "      <th>19771</th>\n",
       "      <td>19772</td>\n",
       "      <td>6</td>\n",
       "      <td>3472</td>\n",
       "      <td>2017-02-09</td>\n",
       "      <td>True</td>\n",
       "      <td>Approved</td>\n",
       "      <td>OHM Cycles</td>\n",
       "      <td>Standard</td>\n",
       "      <td>high</td>\n",
       "      <td>medium</td>\n",
       "      <td>227.88</td>\n",
       "      <td>$136.73</td>\n",
       "      <td>38258.0</td>\n",
       "    </tr>\n",
       "    <tr>\n",
       "      <th>8115</th>\n",
       "      <td>8116</td>\n",
       "      <td>15</td>\n",
       "      <td>3383</td>\n",
       "      <td>2017-07-03</td>\n",
       "      <td>NaN</td>\n",
       "      <td>Approved</td>\n",
       "      <td>Norco Bicycles</td>\n",
       "      <td>Standard</td>\n",
       "      <td>low</td>\n",
       "      <td>medium</td>\n",
       "      <td>958.74</td>\n",
       "      <td>$748.90</td>\n",
       "      <td>40303.0</td>\n",
       "    </tr>\n",
       "  </tbody>\n",
       "</table>\n",
       "</div>"
      ],
      "text/plain": [
       "      transaction_id  product_id customer_id transaction_date online_order  \\\n",
       "10650          10651          17        2629       2017-02-17        False   \n",
       "2041            2042          18        1735       2017-07-22         True   \n",
       "8668            8669           4        1827       2017-11-22         True   \n",
       "1114            1115          23        2759       2017-03-27        False   \n",
       "13902          13903          13        2664       2017-01-14        False   \n",
       "11963          11964          57        3298       2017-06-01        False   \n",
       "11072          11073          49         633       2017-04-16         True   \n",
       "3002            3003          87         200       2017-02-15         True   \n",
       "19771          19772           6        3472       2017-02-09         True   \n",
       "8115            8116          15        3383       2017-07-03          NaN   \n",
       "\n",
       "      order_status           brand product_line product_class product_size  \\\n",
       "10650     Approved        WeareA2B      Touring        medium        large   \n",
       "2041      Approved           Solex     Standard        medium       medium   \n",
       "8668      Approved  Giant Bicycles     Standard          high       medium   \n",
       "1114      Approved  Norco Bicycles     Mountain           low        small   \n",
       "13902     Approved           Solex     Standard        medium       medium   \n",
       "11963     Approved        WeareA2B      Touring        medium        large   \n",
       "11072     Approved           Solex     Standard        medium        large   \n",
       "3002      Approved  Giant Bicycles     Standard          high       medium   \n",
       "19771     Approved      OHM Cycles     Standard          high       medium   \n",
       "8115      Approved  Norco Bicycles     Standard           low       medium   \n",
       "\n",
       "       list_price standard_cost  product_first_sold_date  \n",
       "10650     1362.99        $57.74                  34079.0  \n",
       "2041       575.27       $431.45                  41345.0  \n",
       "8668      1129.13       $677.48                  38573.0  \n",
       "1114       688.63       $612.88                  34244.0  \n",
       "13902     1163.89       $589.27                  42560.0  \n",
       "11963     1890.39       $260.14                  36146.0  \n",
       "11072     1061.56       $733.58                  34170.0  \n",
       "3002      1179.00       $707.40                  38482.0  \n",
       "19771      227.88       $136.73                  38258.0  \n",
       "8115       958.74       $748.90                  40303.0  "
      ]
     },
     "execution_count": 4,
     "metadata": {},
     "output_type": "execute_result"
    }
   ],
   "source": [
    "df_raw.sample(10, random_state=42)"
   ]
  },
  {
   "cell_type": "code",
   "execution_count": 5,
   "metadata": {},
   "outputs": [],
   "source": [
    "df_wrangle = df_raw.copy()"
   ]
  },
  {
   "cell_type": "code",
   "execution_count": 6,
   "metadata": {},
   "outputs": [
    {
     "data": {
      "text/plain": [
       "179"
      ]
     },
     "execution_count": 6,
     "metadata": {},
     "output_type": "execute_result"
    }
   ],
   "source": [
    "len(df_wrangle[df_wrangle['order_status']== 'Cancelled'])"
   ]
  },
  {
   "cell_type": "code",
   "execution_count": 7,
   "metadata": {},
   "outputs": [
    {
     "name": "stdout",
     "output_type": "stream",
     "text": [
      "<class 'pandas.core.frame.DataFrame'>\n",
      "RangeIndex: 20000 entries, 0 to 19999\n",
      "Data columns (total 13 columns):\n",
      " #   Column                   Non-Null Count  Dtype         \n",
      "---  ------                   --------------  -----         \n",
      " 0   transaction_id           20000 non-null  object        \n",
      " 1   product_id               20000 non-null  int64         \n",
      " 2   customer_id              20000 non-null  object        \n",
      " 3   transaction_date         20000 non-null  datetime64[ns]\n",
      " 4   online_order             19640 non-null  object        \n",
      " 5   order_status             20000 non-null  object        \n",
      " 6   brand                    19803 non-null  object        \n",
      " 7   product_line             19803 non-null  object        \n",
      " 8   product_class            19803 non-null  object        \n",
      " 9   product_size             19803 non-null  object        \n",
      " 10  list_price               20000 non-null  float64       \n",
      " 11  standard_cost            19803 non-null  object        \n",
      " 12  product_first_sold_date  19803 non-null  float64       \n",
      "dtypes: datetime64[ns](1), float64(2), int64(1), object(9)\n",
      "memory usage: 2.0+ MB\n"
     ]
    }
   ],
   "source": [
    "df_wrangle.info()"
   ]
  },
  {
   "cell_type": "markdown",
   "metadata": {},
   "source": [
    "👉 Pada dataset, terdapat 179 data transaksi yang mememiliki order status 'Cancelled' atau transaksi batal. Sehingga, data tersebut tidak bisa digunakan dalam analisis LRFM."
   ]
  },
  {
   "cell_type": "code",
   "execution_count": 8,
   "metadata": {},
   "outputs": [],
   "source": [
    "df_wrangle.dropna(subset=['online_order'], inplace=True)"
   ]
  },
  {
   "cell_type": "code",
   "execution_count": 9,
   "metadata": {},
   "outputs": [
    {
     "data": {
      "text/plain": [
       "19640"
      ]
     },
     "execution_count": 9,
     "metadata": {},
     "output_type": "execute_result"
    }
   ],
   "source": [
    "len(df_wrangle)"
   ]
  },
  {
   "cell_type": "markdown",
   "metadata": {},
   "source": [
    "👉 Pada dataset, terdapat data transaksi yang tidak memiliki data atau kosong di kolom online_order dimana kolom tersebut mengacu apakah transaksi tersebut dilakukan secara *online* atau *offline*. Data yang kosong ini tidak memberikan informasi tersebut dan tidak akan mempengaruhi analisis LRFM secara signifikan, oleh karena itu data yang kosong tersebut dihapus."
   ]
  },
  {
   "cell_type": "code",
   "execution_count": 10,
   "metadata": {},
   "outputs": [],
   "source": [
    "df_wrangle = df_wrangle[df_wrangle['order_status'] != 'Cancelled']"
   ]
  },
  {
   "cell_type": "code",
   "execution_count": 11,
   "metadata": {},
   "outputs": [
    {
     "data": {
      "text/plain": [
       "19467"
      ]
     },
     "execution_count": 11,
     "metadata": {},
     "output_type": "execute_result"
    }
   ],
   "source": [
    "len(df_wrangle)"
   ]
  },
  {
   "cell_type": "markdown",
   "metadata": {},
   "source": [
    "👉 Pada dataset, terdapat 179 data transaksi yang mememiliki order status 'Cancelled' atau transaksi batal. Sehingga, data tersebut tidak bisa digunakan dalam analisis LRFM. Oleh karena itu, data tersebut tidak diikut sertakan dalam dataset yang digunakan untuk analisis LRFM."
   ]
  },
  {
   "cell_type": "code",
   "execution_count": 12,
   "metadata": {},
   "outputs": [
    {
     "data": {
      "text/plain": [
       "0"
      ]
     },
     "execution_count": 12,
     "metadata": {},
     "output_type": "execute_result"
    }
   ],
   "source": [
    "df_wrangle.duplicated().sum()"
   ]
  },
  {
   "cell_type": "markdown",
   "metadata": {},
   "source": [
    "👉 Pada dataset, tidak terdapat data transaksi yang terduplikat. Sehingga tidak diperlukan perlakukan penghapusan duplikat data.\n"
   ]
  },
  {
   "cell_type": "code",
   "execution_count": 13,
   "metadata": {},
   "outputs": [
    {
     "data": {
      "text/plain": [
       "Timestamp('2017-12-30 00:00:00')"
      ]
     },
     "execution_count": 13,
     "metadata": {},
     "output_type": "execute_result"
    }
   ],
   "source": [
    "df_wrangle['transaction_date'].max()"
   ]
  },
  {
   "cell_type": "code",
   "execution_count": 14,
   "metadata": {},
   "outputs": [
    {
     "data": {
      "text/plain": [
       "Timestamp('2017-12-31 00:00:00')"
      ]
     },
     "execution_count": 14,
     "metadata": {},
     "output_type": "execute_result"
    }
   ],
   "source": [
    "analysis_date = df_wrangle['transaction_date'].max() + datetime.timedelta(1) \n",
    "analysis_date"
   ]
  },
  {
   "cell_type": "markdown",
   "metadata": {},
   "source": [
    "👉 Pada dataset, waktu transaksi paling akhir yang terdapat di dalam dataset adalah pada \"2017-12-30 00:00:00\" sedangkan waktu analisisnya adalah satu hari setelah waktu transaksi paling akhir yang terdapat di dalam daa set yaitu pada \"2017-12-31 00:00:00\"."
   ]
  },
  {
   "cell_type": "code",
   "execution_count": 14,
   "metadata": {},
   "outputs": [],
   "source": [
    "df_wrangle.to_csv('store_bike_clean.csv')"
   ]
  },
  {
   "cell_type": "code",
   "execution_count": 15,
   "metadata": {},
   "outputs": [
    {
     "data": {
      "text/html": [
       "<div>\n",
       "<style scoped>\n",
       "    .dataframe tbody tr th:only-of-type {\n",
       "        vertical-align: middle;\n",
       "    }\n",
       "\n",
       "    .dataframe tbody tr th {\n",
       "        vertical-align: top;\n",
       "    }\n",
       "\n",
       "    .dataframe thead th {\n",
       "        text-align: right;\n",
       "    }\n",
       "</style>\n",
       "<table border=\"1\" class=\"dataframe\">\n",
       "  <thead>\n",
       "    <tr style=\"text-align: right;\">\n",
       "      <th></th>\n",
       "      <th>transaction_id</th>\n",
       "      <th>product_id</th>\n",
       "      <th>customer_id</th>\n",
       "      <th>transaction_date</th>\n",
       "      <th>online_order</th>\n",
       "      <th>order_status</th>\n",
       "      <th>brand</th>\n",
       "      <th>product_line</th>\n",
       "      <th>product_class</th>\n",
       "      <th>product_size</th>\n",
       "      <th>list_price</th>\n",
       "      <th>standard_cost</th>\n",
       "      <th>product_first_sold_date</th>\n",
       "    </tr>\n",
       "  </thead>\n",
       "  <tbody>\n",
       "    <tr>\n",
       "      <th>0</th>\n",
       "      <td>1</td>\n",
       "      <td>2</td>\n",
       "      <td>2950</td>\n",
       "      <td>2017-02-25</td>\n",
       "      <td>False</td>\n",
       "      <td>Approved</td>\n",
       "      <td>Solex</td>\n",
       "      <td>Standard</td>\n",
       "      <td>medium</td>\n",
       "      <td>medium</td>\n",
       "      <td>71.49</td>\n",
       "      <td>$53.62</td>\n",
       "      <td>41245.0</td>\n",
       "    </tr>\n",
       "    <tr>\n",
       "      <th>1</th>\n",
       "      <td>2</td>\n",
       "      <td>3</td>\n",
       "      <td>3120</td>\n",
       "      <td>2017-05-21</td>\n",
       "      <td>True</td>\n",
       "      <td>Approved</td>\n",
       "      <td>Trek Bicycles</td>\n",
       "      <td>Standard</td>\n",
       "      <td>medium</td>\n",
       "      <td>large</td>\n",
       "      <td>2091.47</td>\n",
       "      <td>$388.92</td>\n",
       "      <td>41701.0</td>\n",
       "    </tr>\n",
       "  </tbody>\n",
       "</table>\n",
       "</div>"
      ],
      "text/plain": [
       "  transaction_id  product_id customer_id transaction_date online_order  \\\n",
       "0              1           2        2950       2017-02-25        False   \n",
       "1              2           3        3120       2017-05-21         True   \n",
       "\n",
       "  order_status          brand product_line product_class product_size  \\\n",
       "0     Approved          Solex     Standard        medium       medium   \n",
       "1     Approved  Trek Bicycles     Standard        medium        large   \n",
       "\n",
       "   list_price standard_cost  product_first_sold_date  \n",
       "0       71.49        $53.62                  41245.0  \n",
       "1     2091.47       $388.92                  41701.0  "
      ]
     },
     "execution_count": 15,
     "metadata": {},
     "output_type": "execute_result"
    }
   ],
   "source": [
    "df_wrangle.head(2)"
   ]
  },
  {
   "cell_type": "markdown",
   "metadata": {},
   "source": [
    "👉 Dataset sudah melalui preprocessing yaitu tahapan extracting dan cleaning. Data yang sudah bersih di export dalam bentuk csv dengan nama file \"store_bike_clean.csv\"."
   ]
  },
  {
   "cell_type": "code",
   "execution_count": 16,
   "metadata": {},
   "outputs": [],
   "source": [
    "# Online Order Dataset\n",
    "df_online = df_wrangle[df_wrangle['online_order'] == True]"
   ]
  },
  {
   "cell_type": "code",
   "execution_count": 17,
   "metadata": {},
   "outputs": [],
   "source": [
    "# Offline Order Dataset\n",
    "df_offline = df_wrangle[df_wrangle['online_order'] == False]"
   ]
  },
  {
   "cell_type": "code",
   "execution_count": 19,
   "metadata": {},
   "outputs": [],
   "source": [
    "df_offline.to_csv('Offline Complete.csv')\n",
    "df_online.to_csv('Online Complete.csv')"
   ]
  },
  {
   "cell_type": "markdown",
   "metadata": {},
   "source": [
    "👉 Dataset yang sudah bersih dapat dibagi menjadi dataset transaksi online dan offline. Dataset transaksi online diexport dalam bentuk csv dengan nama \"Online Complete.csv\" sedangkan dataset transaksi offline diexport dalam bentuk csv dengan nama \"Offline Complete.csv\""
   ]
  },
  {
   "cell_type": "markdown",
   "metadata": {},
   "source": [
    "### **3. Calculate LRFM Value**"
   ]
  },
  {
   "cell_type": "markdown",
   "metadata": {},
   "source": [
    "#### **a. Online Order**"
   ]
  },
  {
   "cell_type": "code",
   "execution_count": 18,
   "metadata": {},
   "outputs": [
    {
     "data": {
      "text/html": [
       "<div>\n",
       "<style scoped>\n",
       "    .dataframe tbody tr th:only-of-type {\n",
       "        vertical-align: middle;\n",
       "    }\n",
       "\n",
       "    .dataframe tbody tr th {\n",
       "        vertical-align: top;\n",
       "    }\n",
       "\n",
       "    .dataframe thead th {\n",
       "        text-align: right;\n",
       "    }\n",
       "</style>\n",
       "<table border=\"1\" class=\"dataframe\">\n",
       "  <thead>\n",
       "    <tr style=\"text-align: right;\">\n",
       "      <th></th>\n",
       "      <th>length</th>\n",
       "      <th>recency</th>\n",
       "      <th>frequency</th>\n",
       "      <th>monetary</th>\n",
       "    </tr>\n",
       "    <tr>\n",
       "      <th>customer_id</th>\n",
       "      <th></th>\n",
       "      <th></th>\n",
       "      <th></th>\n",
       "      <th></th>\n",
       "    </tr>\n",
       "  </thead>\n",
       "  <tbody>\n",
       "    <tr>\n",
       "      <th>879</th>\n",
       "      <td>361</td>\n",
       "      <td>361</td>\n",
       "      <td>1</td>\n",
       "      <td>958.74</td>\n",
       "    </tr>\n",
       "    <tr>\n",
       "      <th>874</th>\n",
       "      <td>344</td>\n",
       "      <td>47</td>\n",
       "      <td>5</td>\n",
       "      <td>5226.81</td>\n",
       "    </tr>\n",
       "    <tr>\n",
       "      <th>811</th>\n",
       "      <td>338</td>\n",
       "      <td>190</td>\n",
       "      <td>2</td>\n",
       "      <td>1156.00</td>\n",
       "    </tr>\n",
       "    <tr>\n",
       "      <th>2861</th>\n",
       "      <td>362</td>\n",
       "      <td>74</td>\n",
       "      <td>5</td>\n",
       "      <td>5043.11</td>\n",
       "    </tr>\n",
       "    <tr>\n",
       "      <th>3299</th>\n",
       "      <td>251</td>\n",
       "      <td>167</td>\n",
       "      <td>2</td>\n",
       "      <td>657.94</td>\n",
       "    </tr>\n",
       "  </tbody>\n",
       "</table>\n",
       "</div>"
      ],
      "text/plain": [
       "             length  recency  frequency  monetary\n",
       "customer_id                                      \n",
       "879             361      361          1    958.74\n",
       "874             344       47          5   5226.81\n",
       "811             338      190          2   1156.00\n",
       "2861            362       74          5   5043.11\n",
       "3299            251      167          2    657.94"
      ]
     },
     "execution_count": 18,
     "metadata": {},
     "output_type": "execute_result"
    }
   ],
   "source": [
    "df_customer_online = df_online.groupby('customer_id').agg(\n",
    "    length=('transaction_date', lambda x: (analysis_date - x.min()).days),\n",
    "    recency=('transaction_date', lambda x: (analysis_date - x.max()).days),\n",
    "    frequency=('transaction_id', lambda x: x.nunique()),    \n",
    "    monetary=('list_price', 'sum')\n",
    ")\n",
    "df_customer_online.sample(5, random_state=42)"
   ]
  },
  {
   "cell_type": "markdown",
   "metadata": {},
   "source": [
    "#### **b. Offline Order**"
   ]
  },
  {
   "cell_type": "code",
   "execution_count": 19,
   "metadata": {},
   "outputs": [
    {
     "data": {
      "text/html": [
       "<div>\n",
       "<style scoped>\n",
       "    .dataframe tbody tr th:only-of-type {\n",
       "        vertical-align: middle;\n",
       "    }\n",
       "\n",
       "    .dataframe tbody tr th {\n",
       "        vertical-align: top;\n",
       "    }\n",
       "\n",
       "    .dataframe thead th {\n",
       "        text-align: right;\n",
       "    }\n",
       "</style>\n",
       "<table border=\"1\" class=\"dataframe\">\n",
       "  <thead>\n",
       "    <tr style=\"text-align: right;\">\n",
       "      <th></th>\n",
       "      <th>length</th>\n",
       "      <th>recency</th>\n",
       "      <th>frequency</th>\n",
       "      <th>monetary</th>\n",
       "    </tr>\n",
       "    <tr>\n",
       "      <th>customer_id</th>\n",
       "      <th></th>\n",
       "      <th></th>\n",
       "      <th></th>\n",
       "      <th></th>\n",
       "    </tr>\n",
       "  </thead>\n",
       "  <tbody>\n",
       "    <tr>\n",
       "      <th>1048</th>\n",
       "      <td>256</td>\n",
       "      <td>173</td>\n",
       "      <td>4</td>\n",
       "      <td>2659.75</td>\n",
       "    </tr>\n",
       "    <tr>\n",
       "      <th>1657</th>\n",
       "      <td>196</td>\n",
       "      <td>67</td>\n",
       "      <td>2</td>\n",
       "      <td>2562.64</td>\n",
       "    </tr>\n",
       "    <tr>\n",
       "      <th>2204</th>\n",
       "      <td>132</td>\n",
       "      <td>18</td>\n",
       "      <td>3</td>\n",
       "      <td>3150.32</td>\n",
       "    </tr>\n",
       "    <tr>\n",
       "      <th>3036</th>\n",
       "      <td>329</td>\n",
       "      <td>170</td>\n",
       "      <td>3</td>\n",
       "      <td>5151.16</td>\n",
       "    </tr>\n",
       "    <tr>\n",
       "      <th>1191</th>\n",
       "      <td>339</td>\n",
       "      <td>44</td>\n",
       "      <td>4</td>\n",
       "      <td>3282.12</td>\n",
       "    </tr>\n",
       "  </tbody>\n",
       "</table>\n",
       "</div>"
      ],
      "text/plain": [
       "             length  recency  frequency  monetary\n",
       "customer_id                                      \n",
       "1048            256      173          4   2659.75\n",
       "1657            196       67          2   2562.64\n",
       "2204            132       18          3   3150.32\n",
       "3036            329      170          3   5151.16\n",
       "1191            339       44          4   3282.12"
      ]
     },
     "execution_count": 19,
     "metadata": {},
     "output_type": "execute_result"
    }
   ],
   "source": [
    "df_customer_offline = df_offline.groupby('customer_id').agg(\n",
    "    length=('transaction_date', lambda x: (analysis_date - x.min()).days),\n",
    "    recency=('transaction_date', lambda x: (analysis_date - x.max()).days),\n",
    "    frequency=('transaction_id', lambda x: x.nunique()),    \n",
    "    monetary=('list_price', 'sum')\n",
    ")\n",
    "df_customer_offline.sample(5, random_state=42)"
   ]
  },
  {
   "cell_type": "markdown",
   "metadata": {},
   "source": [
    "👉 Berikut penjelasan dari masing-masing variabel diatas untuk tabel online maupun offline:\n",
    "\n",
    "| Variable | Description |\n",
    "| --- | --- |\n",
    "| customer_id| ID customer|\n",
    "| length | Usia customer, diperoleh dari selisih hari pertama bertransaksi dengan hari analisis |\n",
    "| recency | Selisih hari terakhir bertransaksi dengan hari analisis |\n",
    "| frequency | Jumlah transaksi yang dilakukan oleh customer |\n",
    "| monetary | Besar pengeluaran yang dilakukan oleh customer |"
   ]
  },
  {
   "cell_type": "markdown",
   "metadata": {},
   "source": [
    "### **4. Assigning Scores**"
   ]
  },
  {
   "cell_type": "markdown",
   "metadata": {},
   "source": [
    "Selanjutnya adalah menentukan skor dengan metode statistical approach"
   ]
  },
  {
   "cell_type": "markdown",
   "metadata": {},
   "source": [
    "#### **a. Length Online Order**"
   ]
  },
  {
   "cell_type": "code",
   "execution_count": 20,
   "metadata": {},
   "outputs": [
    {
     "data": {
      "image/png": "[encoded data removed]",
      "text/plain": [
       "<Figure size 750x500 with 2 Axes>"
      ]
     },
     "metadata": {},
     "output_type": "display_data"
    },
    {
     "data": {
      "text/plain": [
       "0.00      4.0\n",
       "0.25    206.0\n",
       "0.50    281.0\n",
       "0.75    331.0\n",
       "1.00    364.0\n",
       "Name: length, dtype: float64"
      ]
     },
     "metadata": {},
     "output_type": "display_data"
    }
   ],
   "source": [
    "fig, (ax_top, ax_bot) = plt.subplots(\n",
    "                            nrows=2, \n",
    "                            ncols=1, \n",
    "                            figsize=(7.5, 5),\n",
    "                            gridspec_kw={\n",
    "                                'height_ratios': (0.15, 0.85),\n",
    "                                'hspace': 0.05\n",
    "                            }\n",
    "                        )\n",
    "\n",
    "sns.boxplot(data=df_customer_online, x='length', ax=ax_top, color= 'Yellow')\n",
    "sns.histplot(data=df_customer_online, x='length', ax=ax_bot, color= 'Yellow')\n",
    "\n",
    "ax_top.set(\n",
    "    title='Duration of Online Customer Relationships by Days'\n",
    ")\n",
    "\n",
    "plt.show()\n",
    "display(df_customer_online['length'].quantile([0, 0.25, 0.5, 0.75, 1]))"
   ]
  },
  {
   "cell_type": "markdown",
   "metadata": {},
   "source": [
    "👉 Menggunakan distribusi diatas yang disusun berdasarkan pada panjang periode penarikan data yakni sejak 1 Januari 2017 - 30 Desember 2017 (363 hari).\n",
    "- 4 : telah bergabung lebih dari 331 hari.\n",
    "- 3 : telah bergabung antara 281 hari sampai 331 hari.\n",
    "- 2 : telah bergabung antara 206 hari sampai 281 hari.\n",
    "- 1 : baru bergabung antara 4 hari sampai 206 hari."
   ]
  },
  {
   "cell_type": "code",
   "execution_count": 21,
   "metadata": {},
   "outputs": [],
   "source": [
    "df_customer_online['L_score'] = pd.qcut(\n",
    "    df_customer_online['length'],              \n",
    "    q=4,                                \n",
    "    labels=[1, 2, 3, 4]                \n",
    ").astype(int)"
   ]
  },
  {
   "cell_type": "markdown",
   "metadata": {},
   "source": [
    "#### **b. Length Offline Order**"
   ]
  },
  {
   "cell_type": "code",
   "execution_count": 22,
   "metadata": {},
   "outputs": [
    {
     "data": {
      "image/png": "[encoded data removed]",
      "text/plain": [
       "<Figure size 750x500 with 2 Axes>"
      ]
     },
     "metadata": {},
     "output_type": "display_data"
    },
    {
     "data": {
      "text/plain": [
       "0.00      1.0\n",
       "0.25    206.0\n",
       "0.50    284.0\n",
       "0.75    328.0\n",
       "1.00    364.0\n",
       "Name: length, dtype: float64"
      ]
     },
     "metadata": {},
     "output_type": "display_data"
    }
   ],
   "source": [
    "fig, (ax_top, ax_bot) = plt.subplots(\n",
    "                            nrows=2, \n",
    "                            ncols=1, \n",
    "                            figsize=(7.5, 5),\n",
    "                            gridspec_kw={\n",
    "                                'height_ratios': (0.15, 0.85),\n",
    "                                'hspace': 0.05\n",
    "                            }\n",
    "                        )\n",
    "\n",
    "sns.boxplot(data=df_customer_offline, x='length', ax=ax_top, color= 'Blue')\n",
    "sns.histplot(data=df_customer_offline, x='length', ax=ax_bot, color= 'Blue')\n",
    "\n",
    "ax_top.set(\n",
    "    title='Duration of Offline Customer Relationships by Days'\n",
    ")\n",
    "\n",
    "plt.show()\n",
    "display(df_customer_offline['length'].quantile([0, 0.25, 0.5, 0.75, 1]))"
   ]
  },
  {
   "cell_type": "markdown",
   "metadata": {},
   "source": [
    "👉 Menggunakan distribusi diatas yang disusun berdasarkan pada panjang periode penarikan data yakni sejak 1 Januari 2017 - 30 Desember 2017 (363 hari).\n",
    "- 4 : telah bergabung lebih dari 328 hari.\n",
    "- 3 : telah bergabung antara 284 hari sampai 328 hari.\n",
    "- 2 : telah bergabung antara 206 hari sampai 284 hari.\n",
    "- 1 : baru bergabung antara 1 hari sampai 206 hari."
   ]
  },
  {
   "cell_type": "code",
   "execution_count": 23,
   "metadata": {},
   "outputs": [],
   "source": [
    "df_customer_offline['L_score'] = pd.qcut(\n",
    "    df_customer_offline['length'],              \n",
    "    q=4,                                \n",
    "    labels=[1, 2, 3, 4]                \n",
    ").astype(int)"
   ]
  },
  {
   "cell_type": "markdown",
   "metadata": {},
   "source": [
    "#### **c. Recency Online Order**"
   ]
  },
  {
   "cell_type": "code",
   "execution_count": 24,
   "metadata": {},
   "outputs": [
    {
     "data": {
      "image/png": "[encoded data removed]",
      "text/plain": [
       "<Figure size 750x500 with 2 Axes>"
      ]
     },
     "metadata": {},
     "output_type": "display_data"
    },
    {
     "data": {
      "text/plain": [
       "0.00      1.0\n",
       "0.25     37.0\n",
       "0.50     81.0\n",
       "0.75    156.0\n",
       "1.00    363.0\n",
       "Name: recency, dtype: float64"
      ]
     },
     "metadata": {},
     "output_type": "display_data"
    }
   ],
   "source": [
    "fig, (ax_top, ax_bot) = plt.subplots(\n",
    "                            nrows=2, \n",
    "                            ncols=1, \n",
    "                            figsize=(7.5, 5),\n",
    "                            gridspec_kw={\n",
    "                                'height_ratios': (0.15, 0.85),\n",
    "                                'hspace': 0.05\n",
    "                            }\n",
    "                        )\n",
    "\n",
    "sns.boxplot(data=df_customer_online, x='recency', ax=ax_top, color= 'Yellow')\n",
    "sns.histplot(data=df_customer_online, x='recency', ax=ax_bot, color= 'Yellow')\n",
    "\n",
    "ax_top.set(\n",
    "    title='Last Time Online Customer Order by Days'\n",
    ")\n",
    "\n",
    "plt.show()\n",
    "display(df_customer_online['recency'].quantile([0, 0.25, 0.5, 0.75, 1]))"
   ]
  },
  {
   "cell_type": "markdown",
   "metadata": {},
   "source": [
    "👉 Menggunakan distribusi diatas yang disusun berdasarkan pada terakhir kali konsumen melakukan transaksi.\n",
    "- 4 : melakukan transaksi kurang dari 37 hari terakhir\n",
    "- 3 : melakukan transaksi antara 37 hingga 81 hari terakhir\n",
    "- 2 : melakukan transaksi antara 81 hingga 156 hari terakhir\n",
    "- 1 : melakukan transaksi lebih dari 159 hari terakhir"
   ]
  },
  {
   "cell_type": "code",
   "execution_count": 25,
   "metadata": {},
   "outputs": [],
   "source": [
    "df_customer_online['R_score'] = pd.qcut(\n",
    "    df_customer_online['recency'],             \n",
    "    q=4,                                \n",
    "    labels=[4, 3, 2, 1]                 \n",
    ").astype(int)"
   ]
  },
  {
   "cell_type": "markdown",
   "metadata": {},
   "source": [
    "#### **d. Recency Offline Order**"
   ]
  },
  {
   "cell_type": "code",
   "execution_count": 26,
   "metadata": {},
   "outputs": [
    {
     "data": {
      "image/png": "[encoded data removed]",
      "text/plain": [
       "<Figure size 750x500 with 2 Axes>"
      ]
     },
     "metadata": {},
     "output_type": "display_data"
    },
    {
     "data": {
      "text/plain": [
       "0.00      1.0\n",
       "0.25     36.0\n",
       "0.50     84.0\n",
       "0.75    162.0\n",
       "1.00    364.0\n",
       "Name: recency, dtype: float64"
      ]
     },
     "metadata": {},
     "output_type": "display_data"
    }
   ],
   "source": [
    "fig, (ax_top, ax_bot) = plt.subplots(\n",
    "                            nrows=2, \n",
    "                            ncols=1, \n",
    "                            figsize=(7.5, 5),\n",
    "                            gridspec_kw={\n",
    "                                'height_ratios': (0.15, 0.85),\n",
    "                                'hspace': 0.05\n",
    "                            }\n",
    "                        )\n",
    "\n",
    "sns.boxplot(data=df_customer_offline, x='recency', ax=ax_top, color= 'Blue')\n",
    "sns.histplot(data=df_customer_offline, x='recency', ax=ax_bot, color= 'Blue')\n",
    "\n",
    "ax_top.set(\n",
    "    title='Last Time Offline Customer Order by Days'\n",
    ")\n",
    "\n",
    "plt.show()\n",
    "display(df_customer_offline['recency'].quantile([0, 0.25, 0.5, 0.75, 1]))"
   ]
  },
  {
   "cell_type": "markdown",
   "metadata": {},
   "source": [
    "👉 Menggunakan distribusi diatas yang disusun berdasarkan pada terakhir kali konsumen melakukan transaksi.\n",
    "- 4 : melakukan transaksi kurang dari 36 hari terakhir\n",
    "- 3 : melakukan transaksi antara 36 hingga 84 hari terakhir\n",
    "- 2 : melakukan transaksi antara 84 hingga 162 hari terakhir\n",
    "- 1 : melakukan transaksi lebih dari 162 hari terakhir"
   ]
  },
  {
   "cell_type": "code",
   "execution_count": 27,
   "metadata": {},
   "outputs": [],
   "source": [
    "df_customer_offline['R_score'] = pd.qcut(\n",
    "    df_customer_offline['recency'],             \n",
    "    q=4,                                \n",
    "    labels=[4, 3, 2, 1]                 \n",
    ").astype(int)"
   ]
  },
  {
   "cell_type": "markdown",
   "metadata": {},
   "source": [
    "#### **e. Frequency Online Order**"
   ]
  },
  {
   "cell_type": "code",
   "execution_count": 28,
   "metadata": {},
   "outputs": [
    {
     "data": {
      "image/png": "[encoded data removed]",
      "text/plain": [
       "<Figure size 750x500 with 2 Axes>"
      ]
     },
     "metadata": {},
     "output_type": "display_data"
    },
    {
     "data": {
      "text/plain": [
       "0.00    1.0\n",
       "0.25    2.0\n",
       "0.50    3.0\n",
       "0.75    4.0\n",
       "1.00    9.0\n",
       "Name: frequency, dtype: float64"
      ]
     },
     "metadata": {},
     "output_type": "display_data"
    }
   ],
   "source": [
    "fig, (ax_top, ax_bot) = plt.subplots(\n",
    "                            nrows=2, \n",
    "                            ncols=1, \n",
    "                            figsize=(7.5, 5),\n",
    "                            gridspec_kw={\n",
    "                                'height_ratios': (0.15, 0.85),\n",
    "                                'hspace': 0.05\n",
    "                            }\n",
    "                        )\n",
    "\n",
    "sns.boxplot(data=df_customer_online, x='frequency', ax=ax_top, color= 'Yellow')\n",
    "sns.histplot(data=df_customer_online, x='frequency', ax=ax_bot, color= 'Yellow')\n",
    "\n",
    "ax_top.set(\n",
    "    title='Total Transactions by Online Customer'\n",
    ")\n",
    "\n",
    "plt.show()\n",
    "display(df_customer_online['frequency'].quantile([0, 0.25, 0.5, 0.75, 1]))"
   ]
  },
  {
   "cell_type": "markdown",
   "metadata": {},
   "source": [
    "👉 Menggunakan distribusi diatas yang disusun berdasarkan jumlah transaksi yang dilakukan oleh konsumen\n",
    "- 4 : melakukan transaksi lebih dari 4 kali\n",
    "- 3 : melakukan transaksi 3 sampai 4 kali \n",
    "- 2 : melakukan transaksi 2 sampai 3 kali\n",
    "- 1 : melakukan transaksi kurang dari 2 kali"
   ]
  },
  {
   "cell_type": "code",
   "execution_count": 29,
   "metadata": {},
   "outputs": [],
   "source": [
    "df_customer_online['F_score'] = pd.qcut(\n",
    "    df_customer_online['frequency'],             \n",
    "    q=4,                                \n",
    "    labels=[1, 2, 3, 4]                 \n",
    ").astype(int)"
   ]
  },
  {
   "cell_type": "markdown",
   "metadata": {},
   "source": [
    "#### **f. Frequency Offline Order**"
   ]
  },
  {
   "cell_type": "code",
   "execution_count": 30,
   "metadata": {},
   "outputs": [
    {
     "data": {
      "image/png": "[encoded data removed]",
      "text/plain": [
       "<Figure size 750x500 with 2 Axes>"
      ]
     },
     "metadata": {},
     "output_type": "display_data"
    },
    {
     "data": {
      "text/plain": [
       "0.00     1.0\n",
       "0.25     2.0\n",
       "0.50     3.0\n",
       "0.75     4.0\n",
       "1.00    10.0\n",
       "Name: frequency, dtype: float64"
      ]
     },
     "metadata": {},
     "output_type": "display_data"
    }
   ],
   "source": [
    "fig, (ax_top, ax_bot) = plt.subplots(\n",
    "                            nrows=2, \n",
    "                            ncols=1, \n",
    "                            figsize=(7.5, 5),\n",
    "                            gridspec_kw={\n",
    "                                'height_ratios': (0.15, 0.85),\n",
    "                                'hspace': 0.05\n",
    "                            }\n",
    "                        )\n",
    "\n",
    "sns.boxplot(data=df_customer_offline, x='frequency', ax=ax_top, color= 'Blue')\n",
    "sns.histplot(data=df_customer_offline, x='frequency', ax=ax_bot, color= 'Blue')\n",
    "\n",
    "ax_top.set(\n",
    "    title='Total Transactions by Offline Customer'\n",
    ")\n",
    "\n",
    "plt.show()\n",
    "display(df_customer_offline['frequency'].quantile([0, 0.25, 0.5, 0.75, 1]))"
   ]
  },
  {
   "cell_type": "markdown",
   "metadata": {},
   "source": [
    "👉 Menggunakan distribusi diatas yang disusun berdasarkan jumlah transaksi yang dilakukan oleh konsumen\n",
    "- 4 : melakukan transaksi lebih dari 4 kali\n",
    "- 3 : melakukan transaksi 3 sampai 4 kali \n",
    "- 2 : melakukan transaksi 2 sampai 3 kali\n",
    "- 1 : melakukan transaksi kurang dari 2 kali"
   ]
  },
  {
   "cell_type": "code",
   "execution_count": 31,
   "metadata": {},
   "outputs": [],
   "source": [
    "df_customer_offline['F_score'] = pd.qcut(\n",
    "    df_customer_offline['frequency'],             \n",
    "    q=4,                                \n",
    "    labels=[1, 2, 3, 4]                 \n",
    ").astype(int)"
   ]
  },
  {
   "cell_type": "markdown",
   "metadata": {},
   "source": [
    "#### **g. Monetary Online Order**"
   ]
  },
  {
   "cell_type": "code",
   "execution_count": 33,
   "metadata": {},
   "outputs": [
    {
     "data": {
      "image/png": "[encoded data removed]",
      "text/plain": [
       "<Figure size 750x500 with 2 Axes>"
      ]
     },
     "metadata": {},
     "output_type": "display_data"
    },
    {
     "data": {
      "text/plain": [
       "0.00       12.01\n",
       "0.25     1790.97\n",
       "0.50     2947.04\n",
       "0.75     4442.44\n",
       "1.00    11816.32\n",
       "Name: monetary, dtype: float64"
      ]
     },
     "metadata": {},
     "output_type": "display_data"
    }
   ],
   "source": [
    "fig, (ax_top, ax_bot) = plt.subplots(\n",
    "                            nrows=2, \n",
    "                            ncols=1, \n",
    "                            figsize=(7.5, 5),\n",
    "                            gridspec_kw={\n",
    "                                'height_ratios': (0.15, 0.85),\n",
    "                                'hspace': 0.05\n",
    "                            }\n",
    "                        )\n",
    "\n",
    "sns.boxplot(data=df_customer_online, x='monetary', ax=ax_top, color= 'Yellow')\n",
    "sns.histplot(data=df_customer_online, x='monetary', ax=ax_bot, color= 'Yellow')\n",
    "\n",
    "ax_top.set(\n",
    "    title='Total Revenue by Online Customer'\n",
    ")\n",
    "\n",
    "plt.show()\n",
    "display(df_customer_online['monetary'].quantile([0, 0.25, 0.5, 0.75, 1]))"
   ]
  },
  {
   "cell_type": "markdown",
   "metadata": {},
   "source": [
    "👉 Menggunakan distribusi diatas yang disusun berdasarkan jumlah total transaksi setiap konsumen.\n",
    "- 4 : melakukan transaksi lebih dari 4442.44 dollar\n",
    "- 3 : melakukan transaksi antara 2947.04 hingga 4442.44 dollar\n",
    "- 2 : melakukan transaksi antara 1790.97 hingga 2947.97 dollar\n",
    "- 1 : melakukan transaksi kurang dari dari 1790.97 dollar"
   ]
  },
  {
   "cell_type": "code",
   "execution_count": 34,
   "metadata": {},
   "outputs": [],
   "source": [
    "df_customer_online['M_score'] = pd.qcut(\n",
    "    df_customer_online['monetary'],             \n",
    "    q=4,                                \n",
    "    labels=[1, 2, 3, 4]                 \n",
    ").astype(int)"
   ]
  },
  {
   "cell_type": "markdown",
   "metadata": {},
   "source": [
    "#### **h. Monetary Offline Order**"
   ]
  },
  {
   "cell_type": "code",
   "execution_count": 35,
   "metadata": {},
   "outputs": [
    {
     "data": {
      "image/png": "[encoded data removed]",
      "text/plain": [
       "<Figure size 750x500 with 2 Axes>"
      ]
     },
     "metadata": {},
     "output_type": "display_data"
    },
    {
     "data": {
      "text/plain": [
       "0.00       12.0100\n",
       "0.25     1765.3000\n",
       "0.50     3011.7100\n",
       "0.75     4511.5975\n",
       "1.00    12829.5100\n",
       "Name: monetary, dtype: float64"
      ]
     },
     "metadata": {},
     "output_type": "display_data"
    }
   ],
   "source": [
    "fig, (ax_top, ax_bot) = plt.subplots(\n",
    "                            nrows=2, \n",
    "                            ncols=1, \n",
    "                            figsize=(7.5, 5),\n",
    "                            gridspec_kw={\n",
    "                                'height_ratios': (0.15, 0.85),\n",
    "                                'hspace': 0.05\n",
    "                            }\n",
    "                        )\n",
    "\n",
    "sns.boxplot(data=df_customer_offline, x='monetary', ax=ax_top, color= 'Blue')\n",
    "sns.histplot(data=df_customer_offline, x='monetary', ax=ax_bot, color= 'Blue')\n",
    "\n",
    "ax_top.set(\n",
    "    title='Total Revenue by Offline Customer'\n",
    ")\n",
    "\n",
    "plt.show()\n",
    "display(df_customer_offline['monetary'].quantile([0, 0.25, 0.5, 0.75, 1]))"
   ]
  },
  {
   "cell_type": "markdown",
   "metadata": {},
   "source": [
    "👉 Menggunakan distribusi diatas yang disusun berdasarkan jumlah total transaksi setiap konsumen.\n",
    "- 4 : melakukan transaksi lebih dari 4511.90 dollar\n",
    "- 3 : melakukan transaksi antara 3011.71 hingga 4511.90 dollar\n",
    "- 2 : melakukan transaksi antara 1765.30 hingga 3011.71 dollar\n",
    "- 1 : melakukan transaksi kurang dari dari 1765.30 dollar"
   ]
  },
  {
   "cell_type": "code",
   "execution_count": 36,
   "metadata": {},
   "outputs": [],
   "source": [
    "df_customer_offline['M_score'] = pd.qcut(\n",
    "    df_customer_offline['monetary'],             \n",
    "    q=4,                                \n",
    "    labels=[1, 2, 3, 4]                 \n",
    ").astype(int)"
   ]
  },
  {
   "cell_type": "code",
   "execution_count": 37,
   "metadata": {},
   "outputs": [
    {
     "data": {
      "text/html": [
       "<div>\n",
       "<style scoped>\n",
       "    .dataframe tbody tr th:only-of-type {\n",
       "        vertical-align: middle;\n",
       "    }\n",
       "\n",
       "    .dataframe tbody tr th {\n",
       "        vertical-align: top;\n",
       "    }\n",
       "\n",
       "    .dataframe thead th {\n",
       "        text-align: right;\n",
       "    }\n",
       "</style>\n",
       "<table border=\"1\" class=\"dataframe\">\n",
       "  <thead>\n",
       "    <tr style=\"text-align: right;\">\n",
       "      <th></th>\n",
       "      <th>length</th>\n",
       "      <th>recency</th>\n",
       "      <th>frequency</th>\n",
       "      <th>monetary</th>\n",
       "      <th>L_score</th>\n",
       "      <th>R_score</th>\n",
       "      <th>F_score</th>\n",
       "      <th>M_score</th>\n",
       "    </tr>\n",
       "    <tr>\n",
       "      <th>customer_id</th>\n",
       "      <th></th>\n",
       "      <th></th>\n",
       "      <th></th>\n",
       "      <th></th>\n",
       "      <th></th>\n",
       "      <th></th>\n",
       "      <th></th>\n",
       "      <th></th>\n",
       "    </tr>\n",
       "  </thead>\n",
       "  <tbody>\n",
       "    <tr>\n",
       "      <th>879</th>\n",
       "      <td>361</td>\n",
       "      <td>361</td>\n",
       "      <td>1</td>\n",
       "      <td>958.74</td>\n",
       "      <td>4</td>\n",
       "      <td>1</td>\n",
       "      <td>1</td>\n",
       "      <td>1</td>\n",
       "    </tr>\n",
       "    <tr>\n",
       "      <th>874</th>\n",
       "      <td>344</td>\n",
       "      <td>47</td>\n",
       "      <td>5</td>\n",
       "      <td>5226.81</td>\n",
       "      <td>4</td>\n",
       "      <td>3</td>\n",
       "      <td>4</td>\n",
       "      <td>4</td>\n",
       "    </tr>\n",
       "    <tr>\n",
       "      <th>811</th>\n",
       "      <td>338</td>\n",
       "      <td>190</td>\n",
       "      <td>2</td>\n",
       "      <td>1156.00</td>\n",
       "      <td>4</td>\n",
       "      <td>1</td>\n",
       "      <td>1</td>\n",
       "      <td>1</td>\n",
       "    </tr>\n",
       "    <tr>\n",
       "      <th>2861</th>\n",
       "      <td>362</td>\n",
       "      <td>74</td>\n",
       "      <td>5</td>\n",
       "      <td>5043.11</td>\n",
       "      <td>4</td>\n",
       "      <td>3</td>\n",
       "      <td>4</td>\n",
       "      <td>4</td>\n",
       "    </tr>\n",
       "    <tr>\n",
       "      <th>3299</th>\n",
       "      <td>251</td>\n",
       "      <td>167</td>\n",
       "      <td>2</td>\n",
       "      <td>657.94</td>\n",
       "      <td>2</td>\n",
       "      <td>1</td>\n",
       "      <td>1</td>\n",
       "      <td>1</td>\n",
       "    </tr>\n",
       "  </tbody>\n",
       "</table>\n",
       "</div>"
      ],
      "text/plain": [
       "             length  recency  frequency  monetary  L_score  R_score  F_score  \\\n",
       "customer_id                                                                    \n",
       "879             361      361          1    958.74        4        1        1   \n",
       "874             344       47          5   5226.81        4        3        4   \n",
       "811             338      190          2   1156.00        4        1        1   \n",
       "2861            362       74          5   5043.11        4        3        4   \n",
       "3299            251      167          2    657.94        2        1        1   \n",
       "\n",
       "             M_score  \n",
       "customer_id           \n",
       "879                1  \n",
       "874                4  \n",
       "811                1  \n",
       "2861               4  \n",
       "3299               1  "
      ]
     },
     "execution_count": 37,
     "metadata": {},
     "output_type": "execute_result"
    }
   ],
   "source": [
    "df_customer_online.sample(5, random_state=42)"
   ]
  },
  {
   "cell_type": "code",
   "execution_count": 38,
   "metadata": {},
   "outputs": [
    {
     "data": {
      "text/html": [
       "<div>\n",
       "<style scoped>\n",
       "    .dataframe tbody tr th:only-of-type {\n",
       "        vertical-align: middle;\n",
       "    }\n",
       "\n",
       "    .dataframe tbody tr th {\n",
       "        vertical-align: top;\n",
       "    }\n",
       "\n",
       "    .dataframe thead th {\n",
       "        text-align: right;\n",
       "    }\n",
       "</style>\n",
       "<table border=\"1\" class=\"dataframe\">\n",
       "  <thead>\n",
       "    <tr style=\"text-align: right;\">\n",
       "      <th></th>\n",
       "      <th>length</th>\n",
       "      <th>recency</th>\n",
       "      <th>frequency</th>\n",
       "      <th>monetary</th>\n",
       "      <th>L_score</th>\n",
       "      <th>R_score</th>\n",
       "      <th>F_score</th>\n",
       "      <th>M_score</th>\n",
       "    </tr>\n",
       "    <tr>\n",
       "      <th>customer_id</th>\n",
       "      <th></th>\n",
       "      <th></th>\n",
       "      <th></th>\n",
       "      <th></th>\n",
       "      <th></th>\n",
       "      <th></th>\n",
       "      <th></th>\n",
       "      <th></th>\n",
       "    </tr>\n",
       "  </thead>\n",
       "  <tbody>\n",
       "    <tr>\n",
       "      <th>1048</th>\n",
       "      <td>256</td>\n",
       "      <td>173</td>\n",
       "      <td>4</td>\n",
       "      <td>2659.75</td>\n",
       "      <td>2</td>\n",
       "      <td>1</td>\n",
       "      <td>3</td>\n",
       "      <td>2</td>\n",
       "    </tr>\n",
       "    <tr>\n",
       "      <th>1657</th>\n",
       "      <td>196</td>\n",
       "      <td>67</td>\n",
       "      <td>2</td>\n",
       "      <td>2562.64</td>\n",
       "      <td>1</td>\n",
       "      <td>3</td>\n",
       "      <td>1</td>\n",
       "      <td>2</td>\n",
       "    </tr>\n",
       "    <tr>\n",
       "      <th>2204</th>\n",
       "      <td>132</td>\n",
       "      <td>18</td>\n",
       "      <td>3</td>\n",
       "      <td>3150.32</td>\n",
       "      <td>1</td>\n",
       "      <td>4</td>\n",
       "      <td>2</td>\n",
       "      <td>3</td>\n",
       "    </tr>\n",
       "    <tr>\n",
       "      <th>3036</th>\n",
       "      <td>329</td>\n",
       "      <td>170</td>\n",
       "      <td>3</td>\n",
       "      <td>5151.16</td>\n",
       "      <td>4</td>\n",
       "      <td>1</td>\n",
       "      <td>2</td>\n",
       "      <td>4</td>\n",
       "    </tr>\n",
       "    <tr>\n",
       "      <th>1191</th>\n",
       "      <td>339</td>\n",
       "      <td>44</td>\n",
       "      <td>4</td>\n",
       "      <td>3282.12</td>\n",
       "      <td>4</td>\n",
       "      <td>3</td>\n",
       "      <td>3</td>\n",
       "      <td>3</td>\n",
       "    </tr>\n",
       "  </tbody>\n",
       "</table>\n",
       "</div>"
      ],
      "text/plain": [
       "             length  recency  frequency  monetary  L_score  R_score  F_score  \\\n",
       "customer_id                                                                    \n",
       "1048            256      173          4   2659.75        2        1        3   \n",
       "1657            196       67          2   2562.64        1        3        1   \n",
       "2204            132       18          3   3150.32        1        4        2   \n",
       "3036            329      170          3   5151.16        4        1        2   \n",
       "1191            339       44          4   3282.12        4        3        3   \n",
       "\n",
       "             M_score  \n",
       "customer_id           \n",
       "1048               2  \n",
       "1657               2  \n",
       "2204               3  \n",
       "3036               4  \n",
       "1191               3  "
      ]
     },
     "execution_count": 38,
     "metadata": {},
     "output_type": "execute_result"
    }
   ],
   "source": [
    "df_customer_offline.sample(5, random_state=42)"
   ]
  },
  {
   "cell_type": "markdown",
   "metadata": {},
   "source": [
    "👉 Dataset sudah ditambah dengan kolom scoring dari tiap komponen LRFM. "
   ]
  },
  {
   "cell_type": "markdown",
   "metadata": {},
   "source": [
    "### **5. Labelling Segment**"
   ]
  },
  {
   "cell_type": "markdown",
   "metadata": {},
   "source": [
    "Selanjutnya dilakukan customer segmentation dengan menggunakan metode Combining Individual Scores Approach. Metode ini menggabungkan skor individual dari keempat dimensi (L,R,F,M) sehingga didapatkan kombinasi unik seperti 2132, 3444, 4311, dan sebagainya. Metode ini memungkinkan idetifikasi beragam perilaku konsumen, tidak hanya dari satu dimensi saja sehingga lebih representatif dan mudah digunakan untuk membuat strategi pemasaran. Berikut merupakan segmentasi konsumen yang dibuat untuk transaksi online maupun offline:\n",
    "\n",
    "| Length | Recency | Frequency | Monetary | Segmentation Label | Description |\n",
    "|---|---|---|---|---|---|\n",
    "|3-4|3-4|3-4|3-4| Top Tier Loyalist| Best Customer |\n",
    "|3-4|1-2|1-2|1-2| Inactive Customer| Sudah lama tidak berbelanja, jarang berbelanja, dan memiliki nilai transaksi yang rendah |\n",
    "|3-4|3-4|1-2|1-4| Occasional Spender| Baru-baru ini berbelanja dan memiliki frekuensi belanja yang baik namun nilai transaksinya rendah |\n",
    "|3-4|3-4|3-4|1-2| Price Conscious Buyers| Sering berbelanja dan baru-baru ini berbelanja tetapi cenderung membeli prodduk dengan harga yang rendah |\n",
    "|3-4|1-2|3-4|1-4| At Risk Customer| Dulunya sering berbelanja tetapi sudah lama tidak aktif |\n",
    "|3-4|1-2|1-2|3-4| Reactivated Spender| Sebelumnya tidak aktif tetapi baru-baru ini kembali berbelanja dengan nilai transaksi yang signifikan |\n",
    "|1-2|1-4|3-4|3-4| New Customer High Value| Customer baru yang memiliki nilai transaksi yang tinggi |\n",
    "|1-2|1-4|1-2|1-2| New Customer Low Value| Customer baru yang memiliki nilai transaksi rendah |\n",
    "|1-2|1-2|1-2|3-4| New Customer High Potential| Customer baru dengan potensi untuk menjadi pelanggan bernilai tinggi|\n",
    "|1-2|3-4|1-2|3-4| New Customer High Spender| Customer baru yang cenderung membeli produk dengan harga tinggi |\n",
    "|1-2|1-2|3-4|1-2| New Customer Budget Spender| Customer baru yang cenderung membeli produk dengan harga terjangkau |\n",
    "|1-2|1-2|1-2|1-2| Lost Cause| Customer dengan skor rendah di semua metrik LRFM atau tidak memiliki nilai yang signifikan |"
   ]
  },
  {
   "cell_type": "markdown",
   "metadata": {},
   "source": [
    "#### **a. Online Order**"
   ]
  },
  {
   "cell_type": "code",
   "execution_count": 39,
   "metadata": {},
   "outputs": [
    {
     "data": {
      "text/html": [
       "<div>\n",
       "<style scoped>\n",
       "    .dataframe tbody tr th:only-of-type {\n",
       "        vertical-align: middle;\n",
       "    }\n",
       "\n",
       "    .dataframe tbody tr th {\n",
       "        vertical-align: top;\n",
       "    }\n",
       "\n",
       "    .dataframe thead th {\n",
       "        text-align: right;\n",
       "    }\n",
       "</style>\n",
       "<table border=\"1\" class=\"dataframe\">\n",
       "  <thead>\n",
       "    <tr style=\"text-align: right;\">\n",
       "      <th></th>\n",
       "      <th>length</th>\n",
       "      <th>recency</th>\n",
       "      <th>frequency</th>\n",
       "      <th>monetary</th>\n",
       "      <th>L_score</th>\n",
       "      <th>R_score</th>\n",
       "      <th>F_score</th>\n",
       "      <th>M_score</th>\n",
       "      <th>LRFM_score_combined</th>\n",
       "    </tr>\n",
       "    <tr>\n",
       "      <th>customer_id</th>\n",
       "      <th></th>\n",
       "      <th></th>\n",
       "      <th></th>\n",
       "      <th></th>\n",
       "      <th></th>\n",
       "      <th></th>\n",
       "      <th></th>\n",
       "      <th></th>\n",
       "      <th></th>\n",
       "    </tr>\n",
       "  </thead>\n",
       "  <tbody>\n",
       "    <tr>\n",
       "      <th>879</th>\n",
       "      <td>361</td>\n",
       "      <td>361</td>\n",
       "      <td>1</td>\n",
       "      <td>958.74</td>\n",
       "      <td>4</td>\n",
       "      <td>1</td>\n",
       "      <td>1</td>\n",
       "      <td>1</td>\n",
       "      <td>4111</td>\n",
       "    </tr>\n",
       "    <tr>\n",
       "      <th>874</th>\n",
       "      <td>344</td>\n",
       "      <td>47</td>\n",
       "      <td>5</td>\n",
       "      <td>5226.81</td>\n",
       "      <td>4</td>\n",
       "      <td>3</td>\n",
       "      <td>4</td>\n",
       "      <td>4</td>\n",
       "      <td>4344</td>\n",
       "    </tr>\n",
       "    <tr>\n",
       "      <th>811</th>\n",
       "      <td>338</td>\n",
       "      <td>190</td>\n",
       "      <td>2</td>\n",
       "      <td>1156.00</td>\n",
       "      <td>4</td>\n",
       "      <td>1</td>\n",
       "      <td>1</td>\n",
       "      <td>1</td>\n",
       "      <td>4111</td>\n",
       "    </tr>\n",
       "    <tr>\n",
       "      <th>2861</th>\n",
       "      <td>362</td>\n",
       "      <td>74</td>\n",
       "      <td>5</td>\n",
       "      <td>5043.11</td>\n",
       "      <td>4</td>\n",
       "      <td>3</td>\n",
       "      <td>4</td>\n",
       "      <td>4</td>\n",
       "      <td>4344</td>\n",
       "    </tr>\n",
       "    <tr>\n",
       "      <th>3299</th>\n",
       "      <td>251</td>\n",
       "      <td>167</td>\n",
       "      <td>2</td>\n",
       "      <td>657.94</td>\n",
       "      <td>2</td>\n",
       "      <td>1</td>\n",
       "      <td>1</td>\n",
       "      <td>1</td>\n",
       "      <td>2111</td>\n",
       "    </tr>\n",
       "  </tbody>\n",
       "</table>\n",
       "</div>"
      ],
      "text/plain": [
       "             length  recency  frequency  monetary  L_score  R_score  F_score  \\\n",
       "customer_id                                                                    \n",
       "879             361      361          1    958.74        4        1        1   \n",
       "874             344       47          5   5226.81        4        3        4   \n",
       "811             338      190          2   1156.00        4        1        1   \n",
       "2861            362       74          5   5043.11        4        3        4   \n",
       "3299            251      167          2    657.94        2        1        1   \n",
       "\n",
       "             M_score LRFM_score_combined  \n",
       "customer_id                               \n",
       "879                1                4111  \n",
       "874                4                4344  \n",
       "811                1                4111  \n",
       "2861               4                4344  \n",
       "3299               1                2111  "
      ]
     },
     "execution_count": 39,
     "metadata": {},
     "output_type": "execute_result"
    }
   ],
   "source": [
    "df_customer_online['LRFM_score_combined'] = df_customer_online['L_score'].astype(str) + df_customer_online['R_score'].astype(str) + df_customer_online['F_score'].astype(str) + df_customer_online['M_score'].astype(str)\n",
    "df_customer_online.sample(5, random_state=42)"
   ]
  },
  {
   "cell_type": "code",
   "execution_count": 40,
   "metadata": {},
   "outputs": [
    {
     "data": {
      "text/html": [
       "<div>\n",
       "<style scoped>\n",
       "    .dataframe tbody tr th:only-of-type {\n",
       "        vertical-align: middle;\n",
       "    }\n",
       "\n",
       "    .dataframe tbody tr th {\n",
       "        vertical-align: top;\n",
       "    }\n",
       "\n",
       "    .dataframe thead th {\n",
       "        text-align: right;\n",
       "    }\n",
       "</style>\n",
       "<table border=\"1\" class=\"dataframe\">\n",
       "  <thead>\n",
       "    <tr style=\"text-align: right;\">\n",
       "      <th></th>\n",
       "      <th>length</th>\n",
       "      <th>recency</th>\n",
       "      <th>frequency</th>\n",
       "      <th>monetary</th>\n",
       "      <th>L_score</th>\n",
       "      <th>R_score</th>\n",
       "      <th>F_score</th>\n",
       "      <th>M_score</th>\n",
       "      <th>LRFM_score_combined</th>\n",
       "      <th>LRFM_segment_combined</th>\n",
       "    </tr>\n",
       "    <tr>\n",
       "      <th>customer_id</th>\n",
       "      <th></th>\n",
       "      <th></th>\n",
       "      <th></th>\n",
       "      <th></th>\n",
       "      <th></th>\n",
       "      <th></th>\n",
       "      <th></th>\n",
       "      <th></th>\n",
       "      <th></th>\n",
       "      <th></th>\n",
       "    </tr>\n",
       "  </thead>\n",
       "  <tbody>\n",
       "    <tr>\n",
       "      <th>879</th>\n",
       "      <td>361</td>\n",
       "      <td>361</td>\n",
       "      <td>1</td>\n",
       "      <td>958.74</td>\n",
       "      <td>4</td>\n",
       "      <td>1</td>\n",
       "      <td>1</td>\n",
       "      <td>1</td>\n",
       "      <td>4111</td>\n",
       "      <td>Inactive Customer</td>\n",
       "    </tr>\n",
       "    <tr>\n",
       "      <th>874</th>\n",
       "      <td>344</td>\n",
       "      <td>47</td>\n",
       "      <td>5</td>\n",
       "      <td>5226.81</td>\n",
       "      <td>4</td>\n",
       "      <td>3</td>\n",
       "      <td>4</td>\n",
       "      <td>4</td>\n",
       "      <td>4344</td>\n",
       "      <td>Top Tier Loyalist</td>\n",
       "    </tr>\n",
       "    <tr>\n",
       "      <th>811</th>\n",
       "      <td>338</td>\n",
       "      <td>190</td>\n",
       "      <td>2</td>\n",
       "      <td>1156.00</td>\n",
       "      <td>4</td>\n",
       "      <td>1</td>\n",
       "      <td>1</td>\n",
       "      <td>1</td>\n",
       "      <td>4111</td>\n",
       "      <td>Inactive Customer</td>\n",
       "    </tr>\n",
       "    <tr>\n",
       "      <th>2861</th>\n",
       "      <td>362</td>\n",
       "      <td>74</td>\n",
       "      <td>5</td>\n",
       "      <td>5043.11</td>\n",
       "      <td>4</td>\n",
       "      <td>3</td>\n",
       "      <td>4</td>\n",
       "      <td>4</td>\n",
       "      <td>4344</td>\n",
       "      <td>Top Tier Loyalist</td>\n",
       "    </tr>\n",
       "    <tr>\n",
       "      <th>3299</th>\n",
       "      <td>251</td>\n",
       "      <td>167</td>\n",
       "      <td>2</td>\n",
       "      <td>657.94</td>\n",
       "      <td>2</td>\n",
       "      <td>1</td>\n",
       "      <td>1</td>\n",
       "      <td>1</td>\n",
       "      <td>2111</td>\n",
       "      <td>New Customer Low Value</td>\n",
       "    </tr>\n",
       "  </tbody>\n",
       "</table>\n",
       "</div>"
      ],
      "text/plain": [
       "             length  recency  frequency  monetary  L_score  R_score  F_score  \\\n",
       "customer_id                                                                    \n",
       "879             361      361          1    958.74        4        1        1   \n",
       "874             344       47          5   5226.81        4        3        4   \n",
       "811             338      190          2   1156.00        4        1        1   \n",
       "2861            362       74          5   5043.11        4        3        4   \n",
       "3299            251      167          2    657.94        2        1        1   \n",
       "\n",
       "             M_score LRFM_score_combined   LRFM_segment_combined  \n",
       "customer_id                                                       \n",
       "879                1                4111       Inactive Customer  \n",
       "874                4                4344       Top Tier Loyalist  \n",
       "811                1                4111       Inactive Customer  \n",
       "2861               4                4344       Top Tier Loyalist  \n",
       "3299               1                2111  New Customer Low Value  "
      ]
     },
     "execution_count": 40,
     "metadata": {},
     "output_type": "execute_result"
    }
   ],
   "source": [
    "seg_map = {\n",
    "        r'[3-4][3-4][3-4][3-4]': 'Top Tier Loyalist',\n",
    "        r'[3-4][1-2][1-2][1-2]': 'Inactive Customer',\n",
    "        r'[3-4][3-4][1-2][1-4]': 'Occasional Spender',\n",
    "        r'[3-4][3-4][3-4][1-2]': 'Price Conscious Buyers',\n",
    "        r'[3-4][1-2][3-4][1-4]': 'At Risk Customer',\n",
    "        r'[3-4][1-2][1-2][3-4]': 'Reactivated Spender',\n",
    "        r'[1-2][1-4][3-4][3-4]': 'New Customer High Value',\n",
    "        r'[1-2][1-4][1-2][1-2]': 'New Customer Low Value',\n",
    "        r'[1-2][1-2][1-2][3-4]': 'New Customer High Potential',\n",
    "        r'[1-2][3-4][1-2][3-4]': 'New Customer High Spender',\n",
    "        r'[1-2][1-2][3-4][1-2]': 'New Customer Budget Spender',\n",
    "        r'[1-2][1-2][1-2][1-2]': 'Lost Cause'\n",
    "}\n",
    "    \n",
    "df_customer_online['LRFM_segment_combined'] = df_customer_online['LRFM_score_combined'].replace(seg_map, regex=True)\n",
    "df_customer_online.sample(5, random_state=42)"
   ]
  },
  {
   "cell_type": "markdown",
   "metadata": {},
   "source": [
    "#### **b. Offline Order**"
   ]
  },
  {
   "cell_type": "code",
   "execution_count": 41,
   "metadata": {},
   "outputs": [
    {
     "data": {
      "text/html": [
       "<div>\n",
       "<style scoped>\n",
       "    .dataframe tbody tr th:only-of-type {\n",
       "        vertical-align: middle;\n",
       "    }\n",
       "\n",
       "    .dataframe tbody tr th {\n",
       "        vertical-align: top;\n",
       "    }\n",
       "\n",
       "    .dataframe thead th {\n",
       "        text-align: right;\n",
       "    }\n",
       "</style>\n",
       "<table border=\"1\" class=\"dataframe\">\n",
       "  <thead>\n",
       "    <tr style=\"text-align: right;\">\n",
       "      <th></th>\n",
       "      <th>length</th>\n",
       "      <th>recency</th>\n",
       "      <th>frequency</th>\n",
       "      <th>monetary</th>\n",
       "      <th>L_score</th>\n",
       "      <th>R_score</th>\n",
       "      <th>F_score</th>\n",
       "      <th>M_score</th>\n",
       "      <th>LRFM_score_combined</th>\n",
       "    </tr>\n",
       "    <tr>\n",
       "      <th>customer_id</th>\n",
       "      <th></th>\n",
       "      <th></th>\n",
       "      <th></th>\n",
       "      <th></th>\n",
       "      <th></th>\n",
       "      <th></th>\n",
       "      <th></th>\n",
       "      <th></th>\n",
       "      <th></th>\n",
       "    </tr>\n",
       "  </thead>\n",
       "  <tbody>\n",
       "    <tr>\n",
       "      <th>1048</th>\n",
       "      <td>256</td>\n",
       "      <td>173</td>\n",
       "      <td>4</td>\n",
       "      <td>2659.75</td>\n",
       "      <td>2</td>\n",
       "      <td>1</td>\n",
       "      <td>3</td>\n",
       "      <td>2</td>\n",
       "      <td>2132</td>\n",
       "    </tr>\n",
       "    <tr>\n",
       "      <th>1657</th>\n",
       "      <td>196</td>\n",
       "      <td>67</td>\n",
       "      <td>2</td>\n",
       "      <td>2562.64</td>\n",
       "      <td>1</td>\n",
       "      <td>3</td>\n",
       "      <td>1</td>\n",
       "      <td>2</td>\n",
       "      <td>1312</td>\n",
       "    </tr>\n",
       "    <tr>\n",
       "      <th>2204</th>\n",
       "      <td>132</td>\n",
       "      <td>18</td>\n",
       "      <td>3</td>\n",
       "      <td>3150.32</td>\n",
       "      <td>1</td>\n",
       "      <td>4</td>\n",
       "      <td>2</td>\n",
       "      <td>3</td>\n",
       "      <td>1423</td>\n",
       "    </tr>\n",
       "    <tr>\n",
       "      <th>3036</th>\n",
       "      <td>329</td>\n",
       "      <td>170</td>\n",
       "      <td>3</td>\n",
       "      <td>5151.16</td>\n",
       "      <td>4</td>\n",
       "      <td>1</td>\n",
       "      <td>2</td>\n",
       "      <td>4</td>\n",
       "      <td>4124</td>\n",
       "    </tr>\n",
       "    <tr>\n",
       "      <th>1191</th>\n",
       "      <td>339</td>\n",
       "      <td>44</td>\n",
       "      <td>4</td>\n",
       "      <td>3282.12</td>\n",
       "      <td>4</td>\n",
       "      <td>3</td>\n",
       "      <td>3</td>\n",
       "      <td>3</td>\n",
       "      <td>4333</td>\n",
       "    </tr>\n",
       "  </tbody>\n",
       "</table>\n",
       "</div>"
      ],
      "text/plain": [
       "             length  recency  frequency  monetary  L_score  R_score  F_score  \\\n",
       "customer_id                                                                    \n",
       "1048            256      173          4   2659.75        2        1        3   \n",
       "1657            196       67          2   2562.64        1        3        1   \n",
       "2204            132       18          3   3150.32        1        4        2   \n",
       "3036            329      170          3   5151.16        4        1        2   \n",
       "1191            339       44          4   3282.12        4        3        3   \n",
       "\n",
       "             M_score LRFM_score_combined  \n",
       "customer_id                               \n",
       "1048               2                2132  \n",
       "1657               2                1312  \n",
       "2204               3                1423  \n",
       "3036               4                4124  \n",
       "1191               3                4333  "
      ]
     },
     "execution_count": 41,
     "metadata": {},
     "output_type": "execute_result"
    }
   ],
   "source": [
    "df_customer_offline['LRFM_score_combined'] = df_customer_offline['L_score'].astype(str) + df_customer_offline['R_score'].astype(str) + df_customer_offline['F_score'].astype(str) + df_customer_offline['M_score'].astype(str)\n",
    "df_customer_offline.sample(5, random_state=42)"
   ]
  },
  {
   "cell_type": "code",
   "execution_count": 42,
   "metadata": {},
   "outputs": [
    {
     "data": {
      "text/html": [
       "<div>\n",
       "<style scoped>\n",
       "    .dataframe tbody tr th:only-of-type {\n",
       "        vertical-align: middle;\n",
       "    }\n",
       "\n",
       "    .dataframe tbody tr th {\n",
       "        vertical-align: top;\n",
       "    }\n",
       "\n",
       "    .dataframe thead th {\n",
       "        text-align: right;\n",
       "    }\n",
       "</style>\n",
       "<table border=\"1\" class=\"dataframe\">\n",
       "  <thead>\n",
       "    <tr style=\"text-align: right;\">\n",
       "      <th></th>\n",
       "      <th>length</th>\n",
       "      <th>recency</th>\n",
       "      <th>frequency</th>\n",
       "      <th>monetary</th>\n",
       "      <th>L_score</th>\n",
       "      <th>R_score</th>\n",
       "      <th>F_score</th>\n",
       "      <th>M_score</th>\n",
       "      <th>LRFM_score_combined</th>\n",
       "      <th>LRFM_segment_combined</th>\n",
       "    </tr>\n",
       "    <tr>\n",
       "      <th>customer_id</th>\n",
       "      <th></th>\n",
       "      <th></th>\n",
       "      <th></th>\n",
       "      <th></th>\n",
       "      <th></th>\n",
       "      <th></th>\n",
       "      <th></th>\n",
       "      <th></th>\n",
       "      <th></th>\n",
       "      <th></th>\n",
       "    </tr>\n",
       "  </thead>\n",
       "  <tbody>\n",
       "    <tr>\n",
       "      <th>1048</th>\n",
       "      <td>256</td>\n",
       "      <td>173</td>\n",
       "      <td>4</td>\n",
       "      <td>2659.75</td>\n",
       "      <td>2</td>\n",
       "      <td>1</td>\n",
       "      <td>3</td>\n",
       "      <td>2</td>\n",
       "      <td>2132</td>\n",
       "      <td>New Customer Budget Spender</td>\n",
       "    </tr>\n",
       "    <tr>\n",
       "      <th>1657</th>\n",
       "      <td>196</td>\n",
       "      <td>67</td>\n",
       "      <td>2</td>\n",
       "      <td>2562.64</td>\n",
       "      <td>1</td>\n",
       "      <td>3</td>\n",
       "      <td>1</td>\n",
       "      <td>2</td>\n",
       "      <td>1312</td>\n",
       "      <td>New Customer Low Value</td>\n",
       "    </tr>\n",
       "    <tr>\n",
       "      <th>2204</th>\n",
       "      <td>132</td>\n",
       "      <td>18</td>\n",
       "      <td>3</td>\n",
       "      <td>3150.32</td>\n",
       "      <td>1</td>\n",
       "      <td>4</td>\n",
       "      <td>2</td>\n",
       "      <td>3</td>\n",
       "      <td>1423</td>\n",
       "      <td>New Customer High Spender</td>\n",
       "    </tr>\n",
       "    <tr>\n",
       "      <th>3036</th>\n",
       "      <td>329</td>\n",
       "      <td>170</td>\n",
       "      <td>3</td>\n",
       "      <td>5151.16</td>\n",
       "      <td>4</td>\n",
       "      <td>1</td>\n",
       "      <td>2</td>\n",
       "      <td>4</td>\n",
       "      <td>4124</td>\n",
       "      <td>Reactivated Spender</td>\n",
       "    </tr>\n",
       "    <tr>\n",
       "      <th>1191</th>\n",
       "      <td>339</td>\n",
       "      <td>44</td>\n",
       "      <td>4</td>\n",
       "      <td>3282.12</td>\n",
       "      <td>4</td>\n",
       "      <td>3</td>\n",
       "      <td>3</td>\n",
       "      <td>3</td>\n",
       "      <td>4333</td>\n",
       "      <td>Top Tier Loyalist</td>\n",
       "    </tr>\n",
       "  </tbody>\n",
       "</table>\n",
       "</div>"
      ],
      "text/plain": [
       "             length  recency  frequency  monetary  L_score  R_score  F_score  \\\n",
       "customer_id                                                                    \n",
       "1048            256      173          4   2659.75        2        1        3   \n",
       "1657            196       67          2   2562.64        1        3        1   \n",
       "2204            132       18          3   3150.32        1        4        2   \n",
       "3036            329      170          3   5151.16        4        1        2   \n",
       "1191            339       44          4   3282.12        4        3        3   \n",
       "\n",
       "             M_score LRFM_score_combined        LRFM_segment_combined  \n",
       "customer_id                                                            \n",
       "1048               2                2132  New Customer Budget Spender  \n",
       "1657               2                1312       New Customer Low Value  \n",
       "2204               3                1423    New Customer High Spender  \n",
       "3036               4                4124          Reactivated Spender  \n",
       "1191               3                4333            Top Tier Loyalist  "
      ]
     },
     "execution_count": 42,
     "metadata": {},
     "output_type": "execute_result"
    }
   ],
   "source": [
    "seg_map = {\n",
    "        r'[3-4][3-4][3-4][3-4]': 'Top Tier Loyalist',\n",
    "        r'[3-4][1-2][1-2][1-2]': 'Inactive Customer',\n",
    "        r'[3-4][3-4][1-2][1-4]': 'Occasional Spender',\n",
    "        r'[3-4][3-4][3-4][1-2]': 'Price Conscious Buyers',\n",
    "        r'[3-4][1-2][3-4][1-4]': 'At Risk Customer',\n",
    "        r'[3-4][1-2][1-2][3-4]': 'Reactivated Spender',\n",
    "        r'[1-2][1-4][3-4][3-4]': 'New Customer High Value',\n",
    "        r'[1-2][1-4][1-2][1-2]': 'New Customer Low Value',\n",
    "        r'[1-2][1-2][1-2][3-4]': 'New Customer High Potential',\n",
    "        r'[1-2][3-4][1-2][3-4]': 'New Customer High Spender',\n",
    "        r'[1-2][1-2][3-4][1-2]': 'New Customer Budget Spender',\n",
    "        r'[1-2][1-2][1-2][1-2]': 'Lost Cause'\n",
    "}\n",
    "    \n",
    "df_customer_offline['LRFM_segment_combined'] = df_customer_offline['LRFM_score_combined'].replace(seg_map, regex=True)\n",
    "df_customer_offline.sample(5, random_state=42)"
   ]
  },
  {
   "cell_type": "code",
   "execution_count": 45,
   "metadata": {},
   "outputs": [],
   "source": [
    "df_customer_offline.to_csv('Offline Store Bike.csv')\n",
    "df_customer_online.to_csv('Online Store Bike.csv')"
   ]
  },
  {
   "cell_type": "markdown",
   "metadata": {},
   "source": [
    "## **📕 Kesimpulan dan Rekomendasi**\n",
    "\n",
    "Dari analisis LRFM yang telah dilakukan, konsumen dari toko sepeda dapat dikelompok menjadi 12 segmen yang berbeda. Perlakuan stratgi bisnis yang sesuai dapat diterapkan ke setiap segmen tersebut. Berikut rekomendasi bisnis yang dapat dilakukan untuk 10 segmen yang telah dibuat:\n",
    "\n",
    "1. **Top Tier Loyalist**\n",
    "    \n",
    "    Deskripsi : *Best Customer* \n",
    "    - Online:\n",
    "        + Akses eksklusif ke produk baru, diskon pribadi, dan program loyalitas premium\n",
    "        + Undangan ke webinar eksklusif atau sesi tanya jawab dengan ahli  sepeda\n",
    "        + Layanan pelanggan prioritas melalui chat atau telepon \n",
    "    - Offline:\n",
    "        + Layanan penggunaan toko dengan konsultasi khusus dan fasilitas tambahan seperti snack dan merchandise\n",
    "        + Layanan concierge pribadi untuk membantu konsumen dengan semua kebutuhan\n",
    "    \n",
    "2. **Inactive Customer**\n",
    "    \n",
    "    Deskripsi : *Sudah lama tidak berbelanja, jarang berbelanja, dan memiliki nilai transaksi yang rendah* \n",
    "    - Online:\n",
    "        + Email dengan penawaran eksklusif (diskon khusus, free shipping) untuk menarik mereka kembali berbelanja.\n",
    "        + Personalisasi konten berdasarkan riwayat pembelian sebelumnya.\n",
    "        + Penggunaan iklan retargeting di media sosial untuk mengingatkan mereka tentang mengenai toko sepeda    \n",
    "    - Offline:\n",
    "        + Kupon diskon yang dapat digunakan di toko.\n",
    "        + Layanan telepon untuk menanyakan kebutuhan pelanggan, penawaran bantuan dan marketing promosi terbaru\n",
    "\n",
    "3. **Occasional Spender**\n",
    "    \n",
    "    Deskripsi : *Baru-baru ini berbelanja dan memiliki frekuensi belanja yang baik namun nilai transaksinya rendah* \n",
    "    - Online:\n",
    "        + Penawaran bundling produk dengan harga diskon atau promosi upselling untuk meningkatkan nilai transaksi\n",
    "        + Personalisasi konten berdasarkan riwayat pembelian sebelumnya atau produk populer di kalangan pelanggan serupa\n",
    "    - Offline:\n",
    "        + Kupon diskon khusus untuk pembelian dalam jumlah tertentu\n",
    "        + Promosi upselling produk yang mungkin menarik untuk konsumen\n",
    "\n",
    "4. **Price Concious Buyers**\n",
    "    \n",
    "    Deskripsi : *Sering berbelanja dan baru-baru ini berbelanja tetapi cenderung membeli prodduk dengan harga yang rendah* \n",
    "    - Online:\n",
    "        + Penawaran kupon diskon atau kode promo untuk pembelian berikutnya\n",
    "        + Promosi produk dengan harga diskon\n",
    "        + Personalisasi konten berdasarkan riwayat pembelian sebelumnya atau produk populer di kalangan pelanggan serupa\n",
    "    - Offline:\n",
    "        + Acara obral atau diskon khusus di toko. \n",
    "        + Promosi program loyalitas dengan adanya tambahan diskon khusus untuk pelanggan yang mengikuti program\n",
    "\n",
    "5. **At Risk Customer**\n",
    "    \n",
    "    Deskripsi : *Dulunya sering berbelanja tetapi sudah lama tidak aktif* \n",
    "    - Online:\n",
    "        + Pengiriman *personalized email* atau notifikasi yang menanyakan mengapa mereka tidak berbelanja lagi dan menawarkan solusi. \n",
    "        + Pemberian diskon khusus untuk pembelian berikutnya.\n",
    "    - Offline:\n",
    "        + Layanan telepon untuk menanyakan apakah mereka memiliki masalah atau kebutuhan yang dapat dipenuhi.\n",
    "        + Penawaran layanan perbaikan atau perawatan sepeda gratis\n",
    "\n",
    "6. **Reactivated Spender**\n",
    "    \n",
    "    Deskripsi : *Sebelumnya tidak aktif tetapi baru-baru ini kembali berbelanja dengan nilai transaksi yang signifikan* \n",
    "    - Online:\n",
    "        + Penawaran personalisasi berdasarkan produk yang baru dibeli\n",
    "        + Penawaran program referral untuk mendapatkan diskon\n",
    "    - Offline:\n",
    "        + Penawaran layanan perbaikan atau perawatan sepeda gratis setelah melakukan transaksi\n",
    "        + Undang mereka ke acara komunitas bersepeda yg diadakan oleh toko\n",
    "\n",
    "7. **New Customer High Value**\n",
    "    \n",
    "    Deskripsi : *Customer baru yang memiliki nilai transaksi yang tinggi* \n",
    "    - Online:\n",
    "        + Personalisasi rekomendasi produk berdasarkan riwayat pembelian pertama mereka\n",
    "        + Penawaran free shipping atau diskon untuk pembelian berikutnya.\n",
    "    - Offline:\n",
    "        + Pelayanan atau servis pelanggan yang sangat baik untuk memastikan mereka puas dengan pembelian mereka.\n",
    "        + Promosi keanggotaan program loyalitas\n",
    "\n",
    "8. **New Customer Low Value**\n",
    "    \n",
    "    Deskripsi : *Customer baru yang memiliki nilai transaksi rendah* \n",
    "    - Online:\n",
    "        + Penawaran bundling produk dengan harga diskon atau promosi upselling untuk meningkatkan nilai transaksi\n",
    "        + Personalisasi konten edukatif mengenai produk, konten kreatif seperi tips perawatan sepeda, dan lain-lain\n",
    "    - Offline:\n",
    "        + Promo diskon untuk pembelian pertama di toko.\n",
    "        + Undang mereka ke acara pengenalan produk dan berikan kesempatan untuk mencoba produk\n",
    "\n",
    "9. **New Customer High Potential**\n",
    "    \n",
    "    Deskripsi : *Customer baru dengan potensi untuk menjadi pelanggan bernilai tinggi* \n",
    "    - Online:\n",
    "        + Penawaran produk premium yang memiliki margin keuntungan tinggi \n",
    "        + Personalisasi konten edukatif mengenai produk dan produk premium, konten kreatif seperi tips perawatan sepeda, dan lain-lain\n",
    "    - Offline:\n",
    "        + Pelayanan atau servis pelanggan yang sangat baik untuk memastikan mereka puas dengan pembelian mereka.\n",
    "        + Penawaran layanan upgrade produk atau customization\n",
    "\n",
    "10. **New Customer High Spender**\n",
    "    \n",
    "    Deskripsi : *Customer baru yang cenderung membeli produk dengan harga tinggi* \n",
    "    - Online:\n",
    "        + Penawaran eksklusif untuk produk-produk premium\n",
    "        + Personalisasi konten edukatif mengenai produk dan produk premium, konten kreatif seperi tips perawatan sepeda, dan lain-lain\n",
    "    - Offline:\n",
    "        + Pelayanan konsultasi pribadi dengan staf ahli untuk membantu mereka dalam memilih produk yang sesuai\n",
    "        + Undang mereka ke acara peluncuran produk baru atau eksklusif\n",
    "\n",
    "11. **New Customer Budget Spender**\n",
    "    \n",
    "    Deskripsi : *Customer baru yang cenderung membeli produk dengan harga terjangkau*\n",
    "    - Online:\n",
    "        + Penawaran produk dengan hrga yang terjangkau\n",
    "        + Personalisasi konsten edukatif mengenai produk yang dibeli sebelumnya dan konten kreatif seperti tips perawatan sepeda, dan lain-lain.\n",
    "    - Offline:\n",
    "        + Penawaran khusus untuk produk dengan harga diskon \n",
    "        + Pelayanan konsultasi pribadi dengan staf ahli untuk membantu mereka dalam memilih produk yang sesuai\n",
    "\n",
    "12. **Lost Cause**\n",
    "    \n",
    "    Deskripsi : *Customer dengan skor rendah di semua metrik LRFM atau tidak memiliki nilai yang signifikan* \n",
    "    - Online:\n",
    "        + Tidak ada tindakan khusus, fokuskan perlakuan pada segmen customer yang lebih potensial\n",
    "    - Offline:\n",
    "        + Tidak ada tindakan khusus, fokuskan perlakuan pada segmen customer yang lebih potensial\n",
    "    \n",
    "\n",
    "\n"
   ]
  }
 ],
 "metadata": {
  "kernelspec": {
   "display_name": "base",
   "language": "python",
   "name": "python3"
  },
  "language_info": {
   "codemirror_mode": {
    "name": "ipython",
    "version": 3
   },
   "file_extension": ".py",
   "mimetype": "text/x-python",
   "name": "python",
   "nbconvert_exporter": "python",
   "pygments_lexer": "ipython3",
   "version": "3.12.7"
  }
 },
 "nbformat": 4,
 "nbformat_minor": 2
}
